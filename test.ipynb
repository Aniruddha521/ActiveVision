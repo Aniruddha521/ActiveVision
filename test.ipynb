{
 "cells": [
  {
   "cell_type": "code",
   "execution_count": 7,
   "metadata": {},
   "outputs": [],
   "source": [
    "from activevision.utils import DatasetManager\n",
    "from activevision.utils import ModelManager\n",
    "import torch\n",
    "import os\n",
    "import cv2 as cv\n",
    "import matplotlib.pyplot as plt"
   ]
  },
  {
   "cell_type": "code",
   "execution_count": null,
   "metadata": {},
   "outputs": [
    {
     "name": "stdout",
     "output_type": "stream",
     "text": [
      "Downloading file from http://vision.cs.stonybrook.edu/~cvlab_download/coco_search18_fixations_TA_trainval.json ...\n"
     ]
    },
    {
     "name": "stderr",
     "output_type": "stream",
     "text": [
      "COCO-Search18_TA_fixation.json: 100%|██████████| 14.81173324584961/14.81173324584961 [00:23<00:00,  1.61s/MB]\n"
     ]
    },
    {
     "name": "stdout",
     "output_type": "stream",
     "text": [
      "File downloaded and saved to dataset/COCO-Search18_TA_fixation.json.\n",
      "Merged json saved to dataset/COCO-Search18_TA/COCO-Search18_TA_fixation_merged.json.\n",
      "Downloading file from http://vision.cs.stonybrook.edu/~cvlab_download/COCOSearch18-images-TA.zip ...\n"
     ]
    },
    {
     "name": "stderr",
     "output_type": "stream",
     "text": [
      "COCO-Search18_TA.zip: 100%|██████████| 1086.9710788726807/1086.9710788726807 [27:49<00:00,  1.54s/MB]\n"
     ]
    },
    {
     "name": "stdout",
     "output_type": "stream",
     "text": [
      "File downloaded and saved to dataset/COCO-Search18_TA.zip.\n",
      "Extracting COCO-Search18_TA from zip file...\n",
      "COCO-Search18_TA downloaded and extracted to dataset/COCO-Search18_TA.\n"
     ]
    }
   ],
   "source": [
    "\n",
    "dm = DatasetManager()\n",
    "coco_url = \"http://vision.cs.stonybrook.edu/~cvlab_download/COCOSearch18-images-TA.zip\"\n",
    "fixation_url = \"http://vision.cs.stonybrook.edu/~cvlab_download/coco_search18_fixations_TA_trainval.json\"\n",
    "dm.download_fixation(fixation_url, \"COCO-Search18_TA\", 'json')\n",
    "dm.download_dataset(coco_url, \"COCO-Search18_TA\")"
   ]
  },
  {
   "cell_type": "code",
   "execution_count": 6,
   "metadata": {},
   "outputs": [
    {
     "name": "stdout",
     "output_type": "stream",
     "text": [
      "Downloading file from http://vision.cs.stonybrook.edu/~cvlab_download/COCOSearch18-fixations-TP.zip ...\n"
     ]
    },
    {
     "name": "stderr",
     "output_type": "stream",
     "text": [
      "COCO-Search18_TP_fixation.zip: 100%|██████████| 2.797119140625/2.797119140625 [00:05<00:00,  1.94s/MB]\n"
     ]
    },
    {
     "name": "stdout",
     "output_type": "stream",
     "text": [
      "File downloaded and saved to dataset/COCO-Search18_TP_fixation.zip.\n",
      "Extracting fixation data for COCO-Search18_TP from zip file...\n",
      "Fixation data for COCO-Search18_TP extracted to dataset/COCO-Search18_TP.\n",
      "Merged json saved to dataset/COCO-Search18_TP/COCO-Search18_TP_fixation_merged.json.\n",
      "Downloading file from http://vision.cs.stonybrook.edu/~cvlab_download/COCOSearch18-images-TP.zip ...\n"
     ]
    },
    {
     "name": "stderr",
     "output_type": "stream",
     "text": [
      "COCO-Search18_TP.zip: 100%|██████████| 1082.3068838119507/1082.3068838119507 [26:58<00:00,  1.49s/MB]\n"
     ]
    },
    {
     "name": "stdout",
     "output_type": "stream",
     "text": [
      "File downloaded and saved to dataset/COCO-Search18_TP.zip.\n",
      "Extracting COCO-Search18_TP from zip file...\n",
      "COCO-Search18_TP downloaded and extracted to dataset/COCO-Search18_TP.\n"
     ]
    }
   ],
   "source": [
    "\n",
    "dm = DatasetManager()\n",
    "coco_url = \"http://vision.cs.stonybrook.edu/~cvlab_download/COCOSearch18-images-TP.zip\"\n",
    "fixation_url = \"http://vision.cs.stonybrook.edu/~cvlab_download/COCOSearch18-fixations-TP.zip\"\n",
    "dm.download_fixation(fixation_url, \"COCO-Search18_TP\", 'json')\n",
    "dm.download_dataset(coco_url, \"COCO-Search18_TP\")"
   ]
  },
  {
   "cell_type": "code",
   "execution_count": null,
   "metadata": {},
   "outputs": [],
   "source": [
    "mm = ModelManager()\n",
    "mm.load_model(\"IRL\", \"models/trained_generator.pkg\")\n",
    "img = cv.imread(\"dataset/COCO-Search18/images/bottle/000000001455.jpg\")\n",
    "# Create a dummy input (batch of 1, 3 channels, 224x224 image)\n",
    "prediction = mm.predict(\"IRL\", img)\n",
    "print(\"Dummy prediction shape:\", prediction.shape)\n"
   ]
  },
  {
   "cell_type": "code",
   "execution_count": null,
   "metadata": {},
   "outputs": [],
   "source": [
    "plt.imshow(prediction)"
   ]
  }
 ],
 "metadata": {
  "kernelspec": {
   "display_name": "PyTorch_env",
   "language": "python",
   "name": "python3"
  },
  "language_info": {
   "codemirror_mode": {
    "name": "ipython",
    "version": 3
   },
   "file_extension": ".py",
   "mimetype": "text/x-python",
   "name": "python",
   "nbconvert_exporter": "python",
   "pygments_lexer": "ipython3",
   "version": "3.11.9"
  }
 },
 "nbformat": 4,
 "nbformat_minor": 2
}
